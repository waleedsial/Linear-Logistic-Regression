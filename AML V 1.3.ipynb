{
 "cells": [
  {
   "cell_type": "code",
   "execution_count": 517,
   "metadata": {},
   "outputs": [],
   "source": [
    "from IPython.core.interactiveshell import InteractiveShell\n",
    "InteractiveShell.ast_node_interactivity = \"all\""
   ]
  },
  {
   "cell_type": "code",
   "execution_count": 518,
   "metadata": {},
   "outputs": [],
   "source": [
    "import pandas as pd\n",
    "import numpy as np\n",
    "import os\n",
    "import math\n",
    "from numpy import exp\n",
    "import seaborn as sns\n",
    "import matplotlib.pyplot as plt"
   ]
  },
  {
   "cell_type": "code",
   "execution_count": 519,
   "metadata": {},
   "outputs": [],
   "source": [
    "House_data = pd.read_csv('energydata_complete.csv', sep=',')"
   ]
  },
  {
   "cell_type": "code",
   "execution_count": null,
   "metadata": {},
   "outputs": [],
   "source": [
    "def plot_corr(df,size=20):\n",
    "    '''Function plots a graphical correlation matrix for each pair of columns in the dataframe.\n",
    "\n",
    "    Input:\n",
    "        df: pandas DataFrame\n",
    "        size: vertical and horizontal size of the plot'''\n",
    "\n",
    "    corr = df.corr()\n",
    "    fig, ax = plt.subplots(figsize=(size, size))\n",
    "    ax.matshow(corr)\n",
    "    plt.xticks(range(len(corr.columns)), corr.columns);\n",
    "    plt.yticks(range(len(corr.columns)), corr.columns);\n",
    "plot_corr(House_data)    "
   ]
  },
  {
   "cell_type": "code",
   "execution_count": 438,
   "metadata": {},
   "outputs": [
    {
     "data": {
      "text/plain": [
       "Index(['date', 'Appliances', 'lights', 'T1', 'RH_1', 'T2', 'RH_2', 'T3',\n",
       "       'RH_3', 'T4', 'RH_4', 'T5', 'RH_5', 'T6', 'RH_6', 'T7', 'RH_7', 'T8',\n",
       "       'RH_8', 'T9', 'RH_9', 'T_out', 'Press_mm_hg', 'RH_out', 'Windspeed',\n",
       "       'Visibility', 'Tdewpoint', 'rv1', 'rv2'],\n",
       "      dtype='object')"
      ]
     },
     "execution_count": 438,
     "metadata": {},
     "output_type": "execute_result"
    }
   ],
   "source": [
    "House_data.columns"
   ]
  },
  {
   "cell_type": "code",
   "execution_count": 520,
   "metadata": {},
   "outputs": [
    {
     "data": {
      "text/html": [
       "<div>\n",
       "<style scoped>\n",
       "    .dataframe tbody tr th:only-of-type {\n",
       "        vertical-align: middle;\n",
       "    }\n",
       "\n",
       "    .dataframe tbody tr th {\n",
       "        vertical-align: top;\n",
       "    }\n",
       "\n",
       "    .dataframe thead th {\n",
       "        text-align: right;\n",
       "    }\n",
       "</style>\n",
       "<table border=\"1\" class=\"dataframe\">\n",
       "  <thead>\n",
       "    <tr style=\"text-align: right;\">\n",
       "      <th></th>\n",
       "      <th>date</th>\n",
       "      <th>Appliances</th>\n",
       "      <th>lights</th>\n",
       "      <th>T1</th>\n",
       "      <th>RH_1</th>\n",
       "      <th>T2</th>\n",
       "      <th>RH_2</th>\n",
       "      <th>T3</th>\n",
       "      <th>RH_3</th>\n",
       "      <th>T4</th>\n",
       "      <th>...</th>\n",
       "      <th>T9</th>\n",
       "      <th>RH_9</th>\n",
       "      <th>T_out</th>\n",
       "      <th>Press_mm_hg</th>\n",
       "      <th>RH_out</th>\n",
       "      <th>Windspeed</th>\n",
       "      <th>Visibility</th>\n",
       "      <th>Tdewpoint</th>\n",
       "      <th>rv1</th>\n",
       "      <th>rv2</th>\n",
       "    </tr>\n",
       "  </thead>\n",
       "  <tbody>\n",
       "    <tr>\n",
       "      <td>0</td>\n",
       "      <td>2016-01-11 17:00:00</td>\n",
       "      <td>60</td>\n",
       "      <td>30</td>\n",
       "      <td>19.89</td>\n",
       "      <td>47.596667</td>\n",
       "      <td>19.2</td>\n",
       "      <td>44.790000</td>\n",
       "      <td>19.79</td>\n",
       "      <td>44.730000</td>\n",
       "      <td>19.000000</td>\n",
       "      <td>...</td>\n",
       "      <td>17.033333</td>\n",
       "      <td>45.53</td>\n",
       "      <td>6.600000</td>\n",
       "      <td>733.5</td>\n",
       "      <td>92.0</td>\n",
       "      <td>7.000000</td>\n",
       "      <td>63.000000</td>\n",
       "      <td>5.3</td>\n",
       "      <td>13.275433</td>\n",
       "      <td>13.275433</td>\n",
       "    </tr>\n",
       "    <tr>\n",
       "      <td>1</td>\n",
       "      <td>2016-01-11 17:10:00</td>\n",
       "      <td>60</td>\n",
       "      <td>30</td>\n",
       "      <td>19.89</td>\n",
       "      <td>46.693333</td>\n",
       "      <td>19.2</td>\n",
       "      <td>44.722500</td>\n",
       "      <td>19.79</td>\n",
       "      <td>44.790000</td>\n",
       "      <td>19.000000</td>\n",
       "      <td>...</td>\n",
       "      <td>17.066667</td>\n",
       "      <td>45.56</td>\n",
       "      <td>6.483333</td>\n",
       "      <td>733.6</td>\n",
       "      <td>92.0</td>\n",
       "      <td>6.666667</td>\n",
       "      <td>59.166667</td>\n",
       "      <td>5.2</td>\n",
       "      <td>18.606195</td>\n",
       "      <td>18.606195</td>\n",
       "    </tr>\n",
       "    <tr>\n",
       "      <td>2</td>\n",
       "      <td>2016-01-11 17:20:00</td>\n",
       "      <td>50</td>\n",
       "      <td>30</td>\n",
       "      <td>19.89</td>\n",
       "      <td>46.300000</td>\n",
       "      <td>19.2</td>\n",
       "      <td>44.626667</td>\n",
       "      <td>19.79</td>\n",
       "      <td>44.933333</td>\n",
       "      <td>18.926667</td>\n",
       "      <td>...</td>\n",
       "      <td>17.000000</td>\n",
       "      <td>45.50</td>\n",
       "      <td>6.366667</td>\n",
       "      <td>733.7</td>\n",
       "      <td>92.0</td>\n",
       "      <td>6.333333</td>\n",
       "      <td>55.333333</td>\n",
       "      <td>5.1</td>\n",
       "      <td>28.642668</td>\n",
       "      <td>28.642668</td>\n",
       "    </tr>\n",
       "  </tbody>\n",
       "</table>\n",
       "<p>3 rows × 29 columns</p>\n",
       "</div>"
      ],
      "text/plain": [
       "                  date  Appliances  lights     T1       RH_1    T2       RH_2  \\\n",
       "0  2016-01-11 17:00:00          60      30  19.89  47.596667  19.2  44.790000   \n",
       "1  2016-01-11 17:10:00          60      30  19.89  46.693333  19.2  44.722500   \n",
       "2  2016-01-11 17:20:00          50      30  19.89  46.300000  19.2  44.626667   \n",
       "\n",
       "      T3       RH_3         T4  ...         T9   RH_9     T_out  Press_mm_hg  \\\n",
       "0  19.79  44.730000  19.000000  ...  17.033333  45.53  6.600000        733.5   \n",
       "1  19.79  44.790000  19.000000  ...  17.066667  45.56  6.483333        733.6   \n",
       "2  19.79  44.933333  18.926667  ...  17.000000  45.50  6.366667        733.7   \n",
       "\n",
       "   RH_out  Windspeed  Visibility  Tdewpoint        rv1        rv2  \n",
       "0    92.0   7.000000   63.000000        5.3  13.275433  13.275433  \n",
       "1    92.0   6.666667   59.166667        5.2  18.606195  18.606195  \n",
       "2    92.0   6.333333   55.333333        5.1  28.642668  28.642668  \n",
       "\n",
       "[3 rows x 29 columns]"
      ]
     },
     "execution_count": 520,
     "metadata": {},
     "output_type": "execute_result"
    },
    {
     "data": {
      "text/plain": [
       "(19735, 27)"
      ]
     },
     "execution_count": 520,
     "metadata": {},
     "output_type": "execute_result"
    },
    {
     "data": {
      "text/plain": [
       "(19735,)"
      ]
     },
     "execution_count": 520,
     "metadata": {},
     "output_type": "execute_result"
    },
    {
     "data": {
      "text/plain": [
       "(19735,)"
      ]
     },
     "execution_count": 520,
     "metadata": {},
     "output_type": "execute_result"
    }
   ],
   "source": [
    "# Analyzing data, Taking a small dataset, Dropping date, leaving Appliance enery usage for Y column\n",
    "# We can use the same x for regression and classification. \n",
    "House_data.head(3)\n",
    "x = House_data.iloc[:,2:]\n",
    "#x = House_data.iloc[:,19:]\n",
    "y = House_data.iloc[:,1]\n",
    "y_log = (y>50)*1\n",
    "x.shape\n",
    "y.shape\n",
    "y_log.shape\n"
   ]
  },
  {
   "cell_type": "code",
   "execution_count": 521,
   "metadata": {},
   "outputs": [
    {
     "data": {
      "text/plain": [
       "(11841, 27)"
      ]
     },
     "execution_count": 521,
     "metadata": {},
     "output_type": "execute_result"
    },
    {
     "data": {
      "text/plain": [
       "(7894, 27)"
      ]
     },
     "execution_count": 521,
     "metadata": {},
     "output_type": "execute_result"
    },
    {
     "data": {
      "text/plain": [
       "(11841, 27)"
      ]
     },
     "execution_count": 521,
     "metadata": {},
     "output_type": "execute_result"
    },
    {
     "data": {
      "text/plain": [
       "(7894, 27)"
      ]
     },
     "execution_count": 521,
     "metadata": {},
     "output_type": "execute_result"
    }
   ],
   "source": [
    "# Split train and test\n",
    "from sklearn.model_selection import train_test_split \n",
    "x_train,x_test,y_train,y_test = train_test_split(x,y,test_size = 0.4, random_state=100)\n",
    "x_train.shape\n",
    "x_test.shape\n",
    "\n",
    "# Splitting for classification as well. \n",
    "x_train_log,x_test_log,y_train_log,y_test_log = train_test_split(x,y_log,test_size = 0.4, random_state=100)\n",
    "x_train_log.shape\n",
    "x_test_log.shape"
   ]
  },
  {
   "cell_type": "code",
   "execution_count": 522,
   "metadata": {},
   "outputs": [
    {
     "data": {
      "text/plain": [
       "(28, 1)"
      ]
     },
     "execution_count": 522,
     "metadata": {},
     "output_type": "execute_result"
    }
   ],
   "source": [
    "# Creating Theta matrix, initializing random values,  adding a column for the bias terms\n",
    "\n",
    "np.random.seed(0)\n",
    "thetas_matrix = np.random.rand(x_train.shape[1]+1,1)\n",
    "thetas_matrix.shape\n"
   ]
  },
  {
   "cell_type": "code",
   "execution_count": null,
   "metadata": {},
   "outputs": [],
   "source": [
    "thetas_matrix"
   ]
  },
  {
   "cell_type": "code",
   "execution_count": 523,
   "metadata": {},
   "outputs": [
    {
     "data": {
      "text/plain": [
       "(11841, 27)"
      ]
     },
     "execution_count": 523,
     "metadata": {},
     "output_type": "execute_result"
    },
    {
     "data": {
      "text/plain": [
       "(11841,)"
      ]
     },
     "execution_count": 523,
     "metadata": {},
     "output_type": "execute_result"
    },
    {
     "data": {
      "text/plain": [
       "(7894, 27)"
      ]
     },
     "execution_count": 523,
     "metadata": {},
     "output_type": "execute_result"
    },
    {
     "data": {
      "text/plain": [
       "(7894,)"
      ]
     },
     "execution_count": 523,
     "metadata": {},
     "output_type": "execute_result"
    },
    {
     "data": {
      "text/plain": [
       "(7894,)"
      ]
     },
     "execution_count": 523,
     "metadata": {},
     "output_type": "execute_result"
    },
    {
     "data": {
      "text/plain": [
       "(11841,)"
      ]
     },
     "execution_count": 523,
     "metadata": {},
     "output_type": "execute_result"
    }
   ],
   "source": [
    "# Changing DS from Pandas series to numpy arrays\n",
    "x_train_numpy = np.array(x_train)\n",
    "x_test_numpy = np.array(x_test)\n",
    "y_train_numpy = np.array(y_train)\n",
    "y_test_numpy = np.array(y_test)\n",
    "\n",
    "x_train_log = np.array(x_train_log)\n",
    "x_test_log = np.array(x_test_log)\n",
    "y_train_log = np.array(y_train_log)\n",
    "y_test_log = np.array(y_test_log)\n",
    "\n",
    "x_train_numpy.shape\n",
    "y_train_numpy.shape\n",
    "x_test_numpy.shape\n",
    "y_test_numpy.shape\n",
    "y_test_log.shape\n",
    "y_train_log.shape\n",
    "\n",
    "# Here we observe that we need to reshape the y arrays.\n",
    "\n",
    "# Reshaping Y variables to be M x 1 where our data matrix is of shape M x n \n",
    "y_train_numpy = y_train_numpy.reshape(x_train_numpy.shape[0], 1)\n",
    "y_test_numpy  = y_test_numpy.reshape(x_test_numpy.shape[0],1)\n",
    "\n",
    "y_train_log  = y_train_log.reshape(x_train_log.shape[0], 1)\n",
    "y_test_log = y_test_log.reshape(x_test_log.shape[0], 1)"
   ]
  },
  {
   "cell_type": "code",
   "execution_count": 524,
   "metadata": {},
   "outputs": [],
   "source": [
    "# Normalization/Standardization \n",
    "# Normalizing the features using standard deviation\n",
    "# \n",
    "x_train_numpy = (x_train_numpy - np.mean(x_train_numpy))/np.std(x_train_numpy)\n",
    "x_test_numpy = (x_test_numpy - np.mean(x_test_numpy))/np.std(x_test_numpy)\n",
    "\n",
    "\n",
    "x_train_log = (x_train_log - np.mean(x_train_log))/np.std(x_train_log)\n",
    "x_test_log = (x_test_log - np.mean(x_test_log))/np.std(x_test_log)"
   ]
  },
  {
   "cell_type": "code",
   "execution_count": 525,
   "metadata": {},
   "outputs": [
    {
     "data": {
      "text/plain": [
       "(11841, 28)"
      ]
     },
     "execution_count": 525,
     "metadata": {},
     "output_type": "execute_result"
    },
    {
     "data": {
      "text/plain": [
       "(7894, 28)"
      ]
     },
     "execution_count": 525,
     "metadata": {},
     "output_type": "execute_result"
    },
    {
     "data": {
      "text/plain": [
       "(11841, 28)"
      ]
     },
     "execution_count": 525,
     "metadata": {},
     "output_type": "execute_result"
    },
    {
     "data": {
      "text/plain": [
       "(11841, 28)"
      ]
     },
     "execution_count": 525,
     "metadata": {},
     "output_type": "execute_result"
    }
   ],
   "source": [
    "# Appending ones to training data & Test data for the bias term\n",
    "x_train_numpy = np.insert(x_train_numpy,0,1,axis=1)\n",
    "x_train_numpy.shape\n",
    "\n",
    "x_test_numpy = np.insert(x_test_numpy,0,1,axis=1)\n",
    "x_test_numpy.shape\n",
    "\n",
    "# Appending ones to training data & Test data for the bias term for the classification x matrix \n",
    "x_train_log = np.insert(x_train_log,0,1,axis=1)\n",
    "x_train_log.shape\n",
    "x_test_log = np.insert(x_test_log,0,1,axis=1)\n",
    "x_train_log.shape\n"
   ]
  },
  {
   "cell_type": "code",
   "execution_count": 10,
   "metadata": {},
   "outputs": [],
   "source": [
    "# Here I try to combine the two regression functions\n",
    "# Make a general runner/wrapper function that takes the data set input \n",
    "# Activation = sigmoid or 1 we will use for logistic and the other can be used for regression. "
   ]
  },
  {
   "cell_type": "code",
   "execution_count": 526,
   "metadata": {},
   "outputs": [],
   "source": [
    "# Wrapper function is simply a caller function for gradient descent.\n",
    "# Activation parameter differentiates between linear and logistic regression \n",
    "# Activation = 1 for logistic regression\n",
    "# Activation = 0 for linear regression \n",
    "# convergence_threshold constant is different for both linear and logistic regression. \n",
    "def wrapper_function(activation,alpha,maximum_iterations,data_matrix,y_matrix,theta_matrix,x_test_matrix,y_test_matrix,convergence_threshold):\n",
    "        \n",
    "        optimum_thetas,Cost_history,gradient_diff_sum_array,test_cost_history= gradient_descent(activation,alpha,data_matrix,theta_matrix,y_matrix,maximum_iterations,x_test_matrix,y_test_matrix,convergence_threshold)\n",
    "        return optimum_thetas,Cost_history,gradient_diff_sum_array,test_cost_history\n"
   ]
  },
  {
   "cell_type": "code",
   "execution_count": 527,
   "metadata": {},
   "outputs": [],
   "source": [
    "# One general purpose gradient descent, both regression and classification tasks use same gradient descent function. \n",
    "# Algorithms are differentiated based on activation. \n",
    "\n",
    "def gradient_descent(activation,alpha,data_matrix,theta_matrix,y_matrix,maximum_iterations,x_test_matrix,y_test_matrix,convergence_threshold):\n",
    "    \n",
    "    cost_history_array = np.zeros(maximum_iterations) # for each iteration, keep a cost for plotting\n",
    "    test_cost_history = np.empty(maximum_iterations) # for saving test error\n",
    "    \n",
    "    optimum_thetas = theta_matrix\n",
    "    updated_thetas = theta_matrix\n",
    "    gradient_diff_sum_array = np.zeros(maximum_iterations)\n",
    "    convergence_iteration_number = 0 \n",
    "    #convergence = False\n",
    "    for i in range(maximum_iterations):\n",
    "\n",
    "        print('Epoch : ',i)\n",
    "        old_cost = cost_function(activation,data_matrix,updated_thetas,y_matrix)\n",
    "        print('Cost :',old_cost)\n",
    "        cost_history_array[i] = old_cost\n",
    "        # Following array will save the test error for each epoch updated thetas. \n",
    "        test_cost_history[i] = cost_function(activation,x_test_matrix,updated_thetas,y_test_matrix)\n",
    "        \n",
    "        gradient = gradient_calculator(activation,data_matrix,updated_thetas,y_matrix,alpha)\n",
    "        # Checking, for debuggin only \n",
    "        #gradient_difference = check_gradient(activation,gradient,updated_thetas,data_matrix,y_matrix)\n",
    "        #gradient_diff_sum_array[i] = np.sum(gradient_difference)\n",
    "        \n",
    "        old_thetas = updated_thetas\n",
    "        updated_thetas = gradient_updater(gradient,updated_thetas,alpha)\n",
    "        \n",
    "        # Calling convergence check function \n",
    "        convergence = convergence_check(activation,updated_thetas,old_thetas,data_matrix,y_matrix,convergence_threshold)\n",
    "        if(convergence):\n",
    "            #print('convergence has occured, killing the loop')\n",
    "            optimum_thetas = old_thetas\n",
    "            convergence_iteration_number = i\n",
    "            break\n",
    "\n",
    "        \n",
    "        if(i == maximum_iterations-1):\n",
    "            #print('Try more Epochs for saturation, Did not converge')\n",
    "            optimum_thetas = updated_thetas\n",
    "\n",
    "        # Calling gradient checker function\n",
    "        #gradient_approximation,grad_difference = gradient_checker(gradient,updated_thetas,data_matrix,y_matrix)\n",
    "\n",
    "            \n",
    "        #print('-------------------------------------------------------------------------------------------------------')\n",
    "    return optimum_thetas,cost_history_array,gradient_diff_sum_array,test_cost_history"
   ]
  },
  {
   "cell_type": "code",
   "execution_count": 528,
   "metadata": {},
   "outputs": [],
   "source": [
    "# Function for returning predicted values given a data matrix and thetas\n",
    "def predicted_value(data_matrix,thetas):\n",
    "    return np.dot(data_matrix,thetas)"
   ]
  },
  {
   "cell_type": "code",
   "execution_count": 529,
   "metadata": {},
   "outputs": [],
   "source": [
    "# Sigmoid function required for logistic regression \n",
    "def sigmoid_function(z):\n",
    "    return 1 / (1 + exp(-z))"
   ]
  },
  {
   "cell_type": "code",
   "execution_count": 530,
   "metadata": {},
   "outputs": [],
   "source": [
    "# Caller for sigmoid function. \n",
    "def H_function(data_matrix,thetas):\n",
    "    H = sigmoid_function(predicted_value(data_matrix,thetas)) # here the sigmoid is fed z value\n",
    "    return H"
   ]
  },
  {
   "cell_type": "code",
   "execution_count": 531,
   "metadata": {},
   "outputs": [],
   "source": [
    "# calculate gradient to be subtracted from weights\n",
    "# Works for linear and logistic regression differenlty based on activation function \n",
    "def gradient_calculator(activation,data_matrix,thetas,y_matrix,alpha):\n",
    "    \n",
    "    Xtheta = predicted_value(data_matrix,thetas) \n",
    "    data_matrix_T = np.transpose(data_matrix)\n",
    "    m = data_matrix.shape[0]\n",
    "    \n",
    "    if(activation == 0):\n",
    "        gradient = (np.dot(data_matrix_T,(Xtheta-y_matrix)))\n",
    "        return gradient/m\n",
    "    \n",
    "    elif(activation == 1):\n",
    "        h = H_function(data_matrix,thetas)\n",
    "        gradient = np.dot(data_matrix_T,(h- y_matrix))\n",
    "        return gradient/m"
   ]
  },
  {
   "cell_type": "code",
   "execution_count": 457,
   "metadata": {},
   "outputs": [],
   "source": [
    "# takes weights, and subtracts the result of gradient calculator \n",
    "def gradient_updater(gradient,updated_thetas,alpha):\n",
    "    return updated_thetas-(gradient*alpha)"
   ]
  },
  {
   "cell_type": "code",
   "execution_count": 497,
   "metadata": {},
   "outputs": [],
   "source": [
    "# checks if convergence has been achieved or not, we stop training epochs if true. \n",
    "def convergence_check(activation,updated_thetas,old_thetas,data_matrix,y_matrix,convergence_threshold):\n",
    "    if(activation==0):\n",
    "        old_cost = cost_function(activation,data_matrix,old_thetas,y_matrix)\n",
    "        updated_cost = cost_function(activation,data_matrix,updated_thetas,y_matrix)\n",
    "        if(old_cost-updated_cost< convergence_threshold):\n",
    "            print('Linear Regression Cost has converged,returning thetas in the 2nd last iteration')\n",
    "            return True\n",
    "    if(activation==1):\n",
    "        old_cost = cost_function(activation,data_matrix,old_thetas,y_matrix)\n",
    "        updated_cost = cost_function(activation,data_matrix,updated_thetas,y_matrix)\n",
    "        \n",
    "        if(old_cost-updated_cost< convergence_threshold):\n",
    "            print('logistic regression Cost has converged,returning thetas in the 2nd last iteration')\n",
    "            return True\n",
    "        "
   ]
  },
  {
   "cell_type": "code",
   "execution_count": 498,
   "metadata": {},
   "outputs": [],
   "source": [
    "# Returns cost for both linear and logistic regression . \n",
    "def cost_function(activation,data_matrix,thetas,y_matrix):\n",
    "    m = data_matrix.shape[0]\n",
    "    if(activation ==0):\n",
    "        predicted = predicted_value(data_matrix,thetas)\n",
    "        cost = np.dot(np.transpose(predicted - y_matrix),(predicted - y_matrix))\n",
    "        cost = cost/(2*m)\n",
    "        return cost\n",
    "    elif(activation ==1):\n",
    "        h = H_function(data_matrix,thetas)\n",
    "        log_h = np.log(h)\n",
    "        log_1_h = np.log(1-h)\n",
    "        one_min_y_T = np.transpose((1-y_matrix))\n",
    "        y_T = np.transpose(y_matrix)\n",
    "        cost = np.dot((-1*y_T),log_h) - np.dot(one_min_y_T,log_1_h)\n",
    "        return cost/m\n",
    "        "
   ]
  },
  {
   "cell_type": "code",
   "execution_count": 499,
   "metadata": {},
   "outputs": [],
   "source": [
    "# This function uses a gradient testing strategy and checks the calculated gradients. \n",
    "def check_gradient(activation,gradients,thetas,data_matrix,y_values):\n",
    "    # initializing empty array\n",
    "    print('check_gradient called')\n",
    "    Estimated_gradient = np.zeros((thetas.shape[0], 1))\n",
    "    gradient_difference = np.zeros((thetas.shape[0], 1))\n",
    "    \n",
    "    # PSEUDO CODE\n",
    "    # Thetas are a vector i.e of order n x 1\n",
    "    # for every theta we have a gradient \n",
    "    # gradients are of order n x 1 as well i.e. for each theta\n",
    "    # We can estimate gradient for each theta that is why we have a loop\n",
    "    # at each i we are basically estimating ith theta, how ?\n",
    "    \n",
    "    # so epsilon vector is n x 1 as well. \n",
    "    # when its ith iteration we add 1 to the ith location \n",
    "    # we than multiply that epsilon vector with a constant called epsilon constant\n",
    "    # so at ith iteration we will only have that index having epsilon constant. \n",
    "    # so lets say at 5th iteration, we have epsilon vector having epsilon constant at 5th iteration. \n",
    "    # we add that to our theta vector so that  only 5th iteration theta changes. \n",
    "    # We than compute the estimated derivative \n",
    "    # than we can compare it with the gradients computed by gradient descent \n",
    "    \n",
    "    for i in range(thetas.shape[0]):\n",
    "        epsilon_constant = 0.0001\n",
    "        epsilon_vector = np.zeros((thetas.shape[0], 1))\n",
    "        epsilon_vector[i,0] = 1\n",
    "        theta_iPlus = thetas + np.dot(epsilon_vector,epsilon_constant)\n",
    "        theta_iMinus = thetas - np.dot(epsilon_vector,epsilon_constant)\n",
    "        \n",
    "        Estimated_gradient = cost_function(activation,data_matrix,theta_iPlus,y_values)- cost_function(activation,data_matrix,theta_iMinus,y_values)\n",
    "        Estimated_gradient = Estimated_gradient/(2*epsilon_constant)\n",
    "        \n",
    "        # so our Estimated_gradient is basically a gradient estimate for the ith theta\n",
    "        #print('Estimated_gradient for  iteration ',i,Estimated_gradient)\n",
    "        #print('Actual gradient' ,gradients[i])\n",
    "        \n",
    "        # So idea is to have the difference for the ith theta estimate and actual value\n",
    "        gradient_difference[i] = Estimated_gradient - gradients[i,0]\n",
    "   \n",
    "        \n",
    "    return gradient_difference\n",
    "        \n",
    "        \n",
    "        \n",
    "        \n",
    "        \n",
    "    "
   ]
  },
  {
   "cell_type": "code",
   "execution_count": 532,
   "metadata": {},
   "outputs": [],
   "source": [
    "# Use activation = 1 for sigmoid\n",
    "# Use activation = 0 for linear regression\n",
    "# Experimenting for logistic regression \n",
    "activation = 1\n",
    "alpha = 0.3\n",
    "maximum_iterations = 25029\n",
    "data_matrix = x_train_numpy\n",
    "y_matrix = y_train_log\n",
    "theta_matrix = thetas_matrix\n",
    "x_test_matrix = x_test_numpy\n",
    "y_test_matrix = y_test_log\n",
    "convergence_threshold = 0.000001"
   ]
  },
  {
   "cell_type": "code",
   "execution_count": null,
   "metadata": {},
   "outputs": [],
   "source": [
    "optimum_thetas,Cost_history,gradient_diff_sum_array,test_cost_history= wrapper_function(activation,alpha,maximum_iterations,data_matrix,y_matrix,thetas_matrix,x_test_matrix,y_test_matrix,convergence_threshold)\n"
   ]
  },
  {
   "cell_type": "code",
   "execution_count": 464,
   "metadata": {},
   "outputs": [
    {
     "data": {
      "text/plain": [
       "array([[0.62829592]])"
      ]
     },
     "execution_count": 464,
     "metadata": {},
     "output_type": "execute_result"
    }
   ],
   "source": [
    "cost_function(1,x_test_numpy,optimum_thetas,y_test_log)"
   ]
  },
  {
   "cell_type": "code",
   "execution_count": null,
   "metadata": {},
   "outputs": [],
   "source": [
    "\n",
    "plt.xlabel('Iterations')\n",
    "plt.ylabel('Error')\n",
    "plt.plot(Cost_history, color = 'red')\n",
    "plt.plot(test_cost_history)\n"
   ]
  },
  {
   "cell_type": "code",
   "execution_count": 534,
   "metadata": {},
   "outputs": [
    {
     "data": {
      "text/plain": [
       "array([0., 0., 0., ..., 0., 0., 0.])"
      ]
     },
     "execution_count": 534,
     "metadata": {},
     "output_type": "execute_result"
    }
   ],
   "source": [
    "# So for each iteration, we have gradients calculated for each theta\n",
    "# We send those thetas to gradient checker which has estimated gradients\n",
    "# Gradient checker sends the difference for each gradient back to gradient descent function\n",
    "# Gradient descent saves the difference of estimated thetas by checker and the calculated thetas by the calculator \n",
    "# it saves the difference for each iteration in array\n",
    "# The check is that this difference sum should be very small if our calculation is correct and estimation is close to it\n",
    "# hence the difference is less. \n",
    "\n",
    "# this will work only if the gradient check function is called from gradient descent. \n",
    "gradient_diff_sum_array"
   ]
  },
  {
   "cell_type": "code",
   "execution_count": null,
   "metadata": {},
   "outputs": [],
   "source": [
    "    # Remember always use a smaller threshold for logistic regression \n",
    "    # 0.000001\n",
    "    # Activation 0 means linear regression \n",
    "    activation = 0\n",
    "    alpha = 0.01\n",
    "    maximum_iterations = 76910\n",
    "    data_matrix = x_train_numpy\n",
    "    y_matrix = y_train_numpy\n",
    "    theta_matrix = thetas_matrix\n",
    "    x_test_matrix = x_test_numpy\n",
    "    y_test_matrix = y_test_numpy\n",
    "    convergence_threshold = 0.001\n",
    "    \n",
    "    \n",
    "    \n",
    "    optimum_thetas,Cost_history,gradient_diff_sum_array,test_cost_history= wrapper_function(activation,alpha,maximum_iterations,data_matrix,y_matrix,thetas_matrix,x_test_matrix,y_test_matrix,convergence_threshold)\n"
   ]
  },
  {
   "cell_type": "code",
   "execution_count": null,
   "metadata": {},
   "outputs": [],
   "source": [
    "optimum_thetas\n"
   ]
  },
  {
   "cell_type": "code",
   "execution_count": 466,
   "metadata": {},
   "outputs": [
    {
     "data": {
      "text/plain": [
       "(11, 1)"
      ]
     },
     "execution_count": 466,
     "metadata": {},
     "output_type": "execute_result"
    },
    {
     "data": {
      "text/plain": [
       "array([[5017.81008849]])"
      ]
     },
     "execution_count": 466,
     "metadata": {},
     "output_type": "execute_result"
    },
    {
     "data": {
      "text/plain": [
       "array([[5346.7823376]])"
      ]
     },
     "execution_count": 466,
     "metadata": {},
     "output_type": "execute_result"
    }
   ],
   "source": [
    "optimum_thetas.shape\n",
    "cost_function(0,data_matrix,optimum_thetas,y_matrix)\n",
    "cost_function(0,x_test_numpy,optimum_thetas,y_test_numpy)"
   ]
  },
  {
   "cell_type": "code",
   "execution_count": 516,
   "metadata": {},
   "outputs": [
    {
     "data": {
      "text/plain": [
       "(11841, 1)"
      ]
     },
     "execution_count": 516,
     "metadata": {},
     "output_type": "execute_result"
    },
    {
     "data": {
      "text/plain": [
       "Text(0.5, 0, 'Appliance Energy consumption')"
      ]
     },
     "execution_count": 516,
     "metadata": {},
     "output_type": "execute_result"
    },
    {
     "data": {
      "text/plain": [
       "Text(0, 0.5, 'Residuals')"
      ]
     },
     "execution_count": 516,
     "metadata": {},
     "output_type": "execute_result"
    },
    {
     "data": {
      "text/plain": [
       "<matplotlib.collections.PathCollection at 0x2c99671a388>"
      ]
     },
     "execution_count": 516,
     "metadata": {},
     "output_type": "execute_result"
    },
    {
     "data": {
      "image/png": "[encoded data removed]",
      "text/plain": [
       "<Figure size 432x288 with 1 Axes>"
      ]
     },
     "metadata": {
      "needs_background": "light"
     },
     "output_type": "display_data"
    }
   ],
   "source": [
    "y_train_numpy.shape\n",
    "residual = predicted_value(x_train_numpy,optimum_thetas) - y_train_numpy\n",
    "\n",
    "\n",
    "plt.xlabel('Appliance Energy consumption')\n",
    "plt.ylabel('Residuals')\n",
    "\n",
    "plt.scatter(y_train_numpy,residual,color = 'black')\n",
    "\n"
   ]
  },
  {
   "cell_type": "code",
   "execution_count": 467,
   "metadata": {},
   "outputs": [
    {
     "data": {
      "text/plain": [
       "Text(0.5, 0, 'Iterations')"
      ]
     },
     "execution_count": 467,
     "metadata": {},
     "output_type": "execute_result"
    },
    {
     "data": {
      "text/plain": [
       "Text(0, 0.5, 'Error')"
      ]
     },
     "execution_count": 467,
     "metadata": {},
     "output_type": "execute_result"
    },
    {
     "data": {
      "text/plain": [
       "[<matplotlib.lines.Line2D at 0x2c9197216c8>]"
      ]
     },
     "execution_count": 467,
     "metadata": {},
     "output_type": "execute_result"
    },
    {
     "data": {
      "text/plain": [
       "[<matplotlib.lines.Line2D at 0x2c9197218c8>]"
      ]
     },
     "execution_count": 467,
     "metadata": {},
     "output_type": "execute_result"
    },
    {
     "data": {
      "image/png": "[encoded data removed]",
      "text/plain": [
       "<Figure size 432x288 with 1 Axes>"
      ]
     },
     "metadata": {
      "needs_background": "light"
     },
     "output_type": "display_data"
    }
   ],
   "source": [
    "\n",
    "plt.xlabel('Appliance Energy consumption')\n",
    "plt.ylabel('Residuals')\n",
    "plt.plot(Cost_history, color = 'red')\n",
    "plt.plot(test_cost_history)\n"
   ]
  },
  {
   "cell_type": "code",
   "execution_count": 270,
   "metadata": {},
   "outputs": [
    {
     "data": {
      "text/plain": [
       "[<matplotlib.lines.Line2D at 0x2c8bc538648>]"
      ]
     },
     "execution_count": 270,
     "metadata": {},
     "output_type": "execute_result"
    },
    {
     "data": {
      "image/png": "[encoded data removed]",
      "text/plain": [
       "<Figure size 432x288 with 1 Axes>"
      ]
     },
     "metadata": {
      "needs_background": "light"
     },
     "output_type": "display_data"
    }
   ],
   "source": [
    "\n",
    "from matplotlib import pyplot as plt\n",
    "\n",
    "plt.plot(Cost_history)\n",
    "plt.show()"
   ]
  },
  {
   "cell_type": "code",
   "execution_count": 333,
   "metadata": {},
   "outputs": [],
   "source": [
    "# Make predictions of y with optimum thetas\n",
    "activation = 0\n",
    "data_matrix = x_test_numpy\n",
    "y_matrix = y_test_numpy\n",
    "theta_matrix = optimum_thetas\n",
    "\n",
    "#cost_function(activation,data_matrix,,y_matrix)"
   ]
  },
  {
   "cell_type": "code",
   "execution_count": 334,
   "metadata": {},
   "outputs": [
    {
     "data": {
      "text/plain": [
       "array([[117.88473735],\n",
       "       [176.37433329],\n",
       "       [ 69.74482221],\n",
       "       ...,\n",
       "       [ 67.65566802],\n",
       "       [ 86.73620085],\n",
       "       [ 74.08020425]])"
      ]
     },
     "execution_count": 334,
     "metadata": {},
     "output_type": "execute_result"
    }
   ],
   "source": [
    "y_pred = predicted_value(data_matrix,theta_matrix)\n",
    "test_error = \n"
   ]
  },
  {
   "cell_type": "code",
   "execution_count": null,
   "metadata": {},
   "outputs": [],
   "source": [
    "#.......................Test Cases...................................\n",
    "# Following are few test cases which have been calculated manually by hand or have been procured from internet. \n",
    "# These test cases alongwith the gradient check make the gradient descent algorithm solid. "
   ]
  },
  {
   "cell_type": "code",
   "execution_count": 536,
   "metadata": {},
   "outputs": [
    {
     "data": {
      "text/plain": [
       "array([[11.945]])"
      ]
     },
     "execution_count": 536,
     "metadata": {},
     "output_type": "execute_result"
    }
   ],
   "source": [
    "# This is a test case for cost calculation \n",
    "# The answer should be 11.9450\n",
    "x_test = np.array([1,2,1,3,1,4,1,5])\n",
    "x_test=x_test.reshape(4,2)\n",
    "y_t = np.array([7,6,5,4])\n",
    "y_t=y_t.reshape(4,1)\n",
    "theta_test = np.array([0.1,0.2])\n",
    "theta_test=theta_test.reshape(2,1)\n",
    "\n",
    "cost_function(0,x_test,theta_test,y_t)"
   ]
  },
  {
   "cell_type": "code",
   "execution_count": null,
   "metadata": {},
   "outputs": [],
   "source": [
    "# Test case with non-zero thetas\n",
    "x_test = np.array([2,1,3,7,1,9,1,8,1,3,7,4])\n",
    "x_test=x_test.reshape(4,3)\n",
    "\n",
    "y_t = np.array([2,5,5,6])\n",
    "y_t=y_t.reshape(4,1)\n",
    "\n",
    "theta_test = np.array([0.1,-0.2,0.3])\n",
    "theta_test=theta_test.reshape(3,1)\n",
    "\n",
    "\n",
    "alpha = 0.01\n",
    "m =  x_test.shape[0]\n",
    "maximum_iterations = 10\n",
    "activation = 0\n",
    "\n",
    "#optimum_thetas,Cost_history= wrapper_function(activation,alpha,maximum_iterations,data_matrix,y_matrix,thetas_matrix)\n",
    "\n",
    "gradient_test_thetas,Cost_history,gradient_diff_sum_array,test_cost_history= wrapper_function(activation,alpha,maximum_iterations,data_matrix,y_matrix,thetas_matrix,x_test_matrix,y_test_matrix,convergence_threshold)\n",
    "optimum_thetas,Cost_history"
   ]
  }
 ],
 "metadata": {
  "kernelspec": {
   "display_name": "Python 3",
   "language": "python",
   "name": "python3"
  },
  "language_info": {
   "codemirror_mode": {
    "name": "ipython",
    "version": 3
   },
   "file_extension": ".py",
   "mimetype": "text/x-python",
   "name": "python",
   "nbconvert_exporter": "python",
   "pygments_lexer": "ipython3",
   "version": "3.7.4"
  }
 },
 "nbformat": 4,
 "nbformat_minor": 2
}
